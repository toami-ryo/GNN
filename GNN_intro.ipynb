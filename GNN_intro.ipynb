{
 "cells": [
  {
   "cell_type": "markdown",
   "id": "13c47199",
   "metadata": {},
   "source": [
    "# PyG を用いた GNN\n",
    "https://pytorch-geometric.readthedocs.io/en/latest/notes/introduction.html#common-benchmark-datasets"
   ]
  },
  {
   "cell_type": "code",
   "execution_count": 1,
   "id": "6aff3678",
   "metadata": {},
   "outputs": [],
   "source": [
    "import torch\n",
    "from torch_geometric.data import Data"
   ]
  },
  {
   "cell_type": "markdown",
   "id": "725f88ce",
   "metadata": {},
   "source": [
    "## グラフデータの作成\n",
    "節点 $V = {0, 1, 2}$、枝 $E = {(0,1), (1,2)}$ の無向グラフを作成。それぞれ特徴量 $x$ をもつ。  \n",
    "有向グラフをもとにした記述に注意。"
   ]
  },
  {
   "cell_type": "code",
   "execution_count": 2,
   "id": "7fa1f93e",
   "metadata": {},
   "outputs": [],
   "source": [
    "edge_index = torch.tensor([[0, 1, 1, 2],\n",
    "                           [1, 0, 2, 1]], dtype=torch.long)\n",
    "x = torch.tensor([[-1], [0], [1]], dtype=torch.float)\n",
    "\n",
    "data = Data(x=x, edge_index=edge_index)"
   ]
  },
  {
   "cell_type": "markdown",
   "id": "2de2c3c3",
   "metadata": {},
   "source": [
    "枝の記述が気に食わないなら、contiguous を使うとよい。"
   ]
  },
  {
   "cell_type": "code",
   "execution_count": 3,
   "id": "3564b035",
   "metadata": {},
   "outputs": [],
   "source": [
    "edge_index = torch.tensor([[0, 1],\n",
    "                           [1, 0],\n",
    "                           [1, 2],\n",
    "                           [2, 1]], dtype=torch.long)\n",
    "x = torch.tensor([[-1], [0], [1]], dtype=torch.float)\n",
    "\n",
    "data = Data(x=x, edge_index=edge_index.t().contiguous())"
   ]
  },
  {
   "cell_type": "markdown",
   "id": "efb71bae",
   "metadata": {},
   "source": [
    "data の内容。データの要素名と tensor の形がわかる"
   ]
  },
  {
   "cell_type": "code",
   "execution_count": 4,
   "id": "26b5e6e6",
   "metadata": {},
   "outputs": [
    {
     "data": {
      "text/plain": [
       "Data(x=[3, 1], edge_index=[2, 4])"
      ]
     },
     "execution_count": 4,
     "metadata": {},
     "output_type": "execute_result"
    }
   ],
   "source": [
    "data"
   ]
  },
  {
   "cell_type": "markdown",
   "id": "7b78e5f0",
   "metadata": {},
   "source": [
    "グラフ構造データの要素名について"
   ]
  },
  {
   "cell_type": "code",
   "execution_count": 5,
   "id": "b367f975",
   "metadata": {},
   "outputs": [
    {
     "name": "stdout",
     "output_type": "stream",
     "text": [
      "['x', 'edge_index']\n",
      "\"edge_attr\" found in data ? : False\n"
     ]
    }
   ],
   "source": [
    "print(data.keys)\n",
    "\n",
    "print('\\\"edge_attr\\\" found in data ? : {}'.format('edge_attr' in data))"
   ]
  },
  {
   "cell_type": "markdown",
   "id": "06aa06c8",
   "metadata": {},
   "source": [
    "data の要素を取り出す"
   ]
  },
  {
   "cell_type": "code",
   "execution_count": 6,
   "id": "3a8a2284",
   "metadata": {},
   "outputs": [
    {
     "name": "stdout",
     "output_type": "stream",
     "text": [
      "tensor([[-1.],\n",
      "        [ 0.],\n",
      "        [ 1.]])\n"
     ]
    }
   ],
   "source": [
    "print(data['x'])"
   ]
  },
  {
   "cell_type": "markdown",
   "id": "e1b3077e",
   "metadata": {},
   "source": [
    "その他グラフを解析するメソッド"
   ]
  },
  {
   "cell_type": "code",
   "execution_count": 7,
   "id": "c3e3e780",
   "metadata": {},
   "outputs": [
    {
     "name": "stdout",
     "output_type": "stream",
     "text": [
      "3\n",
      "4\n",
      "1\n",
      "False\n",
      "False\n",
      "False\n"
     ]
    }
   ],
   "source": [
    "print(data.num_nodes)\n",
    "print(data.num_edges)\n",
    "print(data.num_node_features)\n",
    "print(data.has_isolated_nodes())\n",
    "print(data.has_self_loops())\n",
    "print(data.is_directed())"
   ]
  },
  {
   "cell_type": "code",
   "execution_count": 8,
   "id": "dd77c503",
   "metadata": {},
   "outputs": [
    {
     "data": {
      "text/plain": [
       "Data(x=[3, 1], edge_index=[2, 4])"
      ]
     },
     "execution_count": 8,
     "metadata": {},
     "output_type": "execute_result"
    }
   ],
   "source": [
    "data"
   ]
  },
  {
   "cell_type": "markdown",
   "id": "c98d81e7",
   "metadata": {},
   "source": [
    "## データセット\n",
    "ベンチマークの（基礎的な）データが多く用意されている。  \n",
    "データセット \"ENZYMES\" のダウンロード"
   ]
  },
  {
   "cell_type": "code",
   "execution_count": 9,
   "id": "aa5fb20a",
   "metadata": {},
   "outputs": [],
   "source": [
    "from torch_geometric.datasets import TUDataset"
   ]
  },
  {
   "cell_type": "code",
   "execution_count": 10,
   "id": "45dd73f4",
   "metadata": {},
   "outputs": [],
   "source": [
    "dataset = TUDataset(root='/tmp/ENZYMES', name='ENZYMES')"
   ]
  },
  {
   "cell_type": "code",
   "execution_count": 11,
   "id": "120d6c7d",
   "metadata": {
    "scrolled": true
   },
   "outputs": [
    {
     "name": "stdout",
     "output_type": "stream",
     "text": [
      "600\n",
      "6\n",
      "3\n"
     ]
    }
   ],
   "source": [
    "print(len(dataset))\n",
    "print(dataset.num_classes)\n",
    "print(dataset.num_node_features)"
   ]
  },
  {
   "cell_type": "markdown",
   "id": "d943b121",
   "metadata": {},
   "source": [
    "データセットには多くのグラフデータがおさめられている"
   ]
  },
  {
   "cell_type": "code",
   "execution_count": 12,
   "id": "bf76dcea",
   "metadata": {
    "scrolled": true
   },
   "outputs": [
    {
     "name": "stdout",
     "output_type": "stream",
     "text": [
      "Data(edge_index=[2, 168], x=[37, 3], y=[1])\n",
      "True\n"
     ]
    }
   ],
   "source": [
    "print(dataset[0])\n",
    "print(data.is_undirected())"
   ]
  },
  {
   "cell_type": "markdown",
   "id": "e6abfce4",
   "metadata": {},
   "source": [
    "上の例だと、一番目のグラフデータはノード数 37、枝数 168/2 の無向グラフで、各ノードが３次元の特徴量をもつ\n",
    "\n",
    "データを操作するメソッド"
   ]
  },
  {
   "cell_type": "code",
   "execution_count": 13,
   "id": "cbb7a4b2",
   "metadata": {},
   "outputs": [
    {
     "name": "stdout",
     "output_type": "stream",
     "text": [
      "スライス（サンプリング）\n",
      "ENZYMES(540)\n",
      "ENZYMES(60)\n",
      "\n",
      "シャッフル\n",
      "Data(edge_index=[2, 18], x=[5, 3], y=[1])\n"
     ]
    }
   ],
   "source": [
    "print('スライス（サンプリング）')\n",
    "print(dataset[:540])\n",
    "print(dataset[540:])\n",
    "\n",
    "print('\\nシャッフル')\n",
    "print(dataset.shuffle()[0])"
   ]
  },
  {
   "cell_type": "markdown",
   "id": "b322e80a",
   "metadata": {},
   "source": [
    "データセット \"Cora\" のダウンロード  \n",
    "論文の引用・被引用のネットワーク"
   ]
  },
  {
   "cell_type": "code",
   "execution_count": 14,
   "id": "0fb7d19e",
   "metadata": {},
   "outputs": [],
   "source": [
    "from torch_geometric.datasets import Planetoid"
   ]
  },
  {
   "cell_type": "code",
   "execution_count": 15,
   "id": "ce6314b6",
   "metadata": {},
   "outputs": [],
   "source": [
    "dataset = Planetoid(root='/tmp/Cora', name='Cora')"
   ]
  },
  {
   "cell_type": "code",
   "execution_count": 29,
   "id": "48255aa7",
   "metadata": {},
   "outputs": [
    {
     "name": "stdout",
     "output_type": "stream",
     "text": [
      "1\n",
      "Data(x=[2708, 1433], edge_index=[2, 10556], y=[2708], train_mask=[2708], val_mask=[2708], test_mask=[2708])\n",
      "2708\n",
      "True\n",
      "7\n",
      "1433\n"
     ]
    }
   ],
   "source": [
    "print(len(dataset))\n",
    "print(dataset[0])\n",
    "print(dataset[0].num_nodes)\n",
    "print(dataset[0].is_undirected())\n",
    "print(dataset.num_classes)\n",
    "print(dataset.num_node_features)"
   ]
  },
  {
   "cell_type": "markdown",
   "id": "9df20cc0",
   "metadata": {},
   "source": [
    "Cora は1つだけのグラフデータからなるデータセット。このグラフはノード数 2708 の、論文間の引用関係を表す無向グラフである。各ノードは論文を表し、7つの分野にクラス分けされている。また各ノードは 1433 単語の出現の有無を 0/1 で記したベクトルを、特徴量としてもつ。"
   ]
  },
  {
   "cell_type": "code",
   "execution_count": 17,
   "id": "da56cf2d",
   "metadata": {},
   "outputs": [
    {
     "name": "stdout",
     "output_type": "stream",
     "text": [
      "Data(x=[2708, 1433], edge_index=[2, 10556], y=[2708], train_mask=[2708], val_mask=[2708], test_mask=[2708])\n",
      "True\n",
      "140\n",
      "500\n",
      "1000\n"
     ]
    }
   ],
   "source": [
    "data = dataset[0]\n",
    "print(data)\n",
    "\n",
    "print(data.is_undirected())\n",
    "\n",
    "print(data.train_mask.sum().item())\n",
    "\n",
    "print(data.val_mask.sum().item())\n",
    "\n",
    "print(data.test_mask.sum().item())"
   ]
  },
  {
   "cell_type": "markdown",
   "id": "c88a5bef",
   "metadata": {},
   "source": [
    "- train_mask はどのノードに対してトレーニングするか決める。今回は140個のノード  \n",
    "- val_mask はどのノードでバリデーション（テストデータによる能力検証）するか決める？今回は500個のノード   \n",
    "- test_mask はどのノードでテストするか決める。"
   ]
  },
  {
   "cell_type": "markdown",
   "id": "fdf1a0f9",
   "metadata": {},
   "source": [
    "ミニバッチ学習（データをサンプリングして1エポックの学習を行う）のためのデータは torch_geometric.loader.DataLoader でつくる"
   ]
  },
  {
   "cell_type": "code",
   "execution_count": 18,
   "id": "97801d7c",
   "metadata": {},
   "outputs": [],
   "source": [
    "from torch_geometric.loader import DataLoader"
   ]
  },
  {
   "cell_type": "code",
   "execution_count": 19,
   "id": "d8220f0b",
   "metadata": {
    "scrolled": true
   },
   "outputs": [
    {
     "name": "stdout",
     "output_type": "stream",
     "text": [
      "DataBatch(edge_index=[2, 3828], x=[1023, 21], y=[32], batch=[1023], ptr=[33])\n",
      "32\n",
      "\n",
      "DataBatch(edge_index=[2, 3870], x=[1002, 21], y=[32], batch=[1002], ptr=[33])\n",
      "32\n",
      "\n",
      "DataBatch(edge_index=[2, 4056], x=[1045, 21], y=[32], batch=[1045], ptr=[33])\n",
      "32\n",
      "\n",
      "DataBatch(edge_index=[2, 4222], x=[1083, 21], y=[32], batch=[1083], ptr=[33])\n",
      "32\n",
      "\n",
      "DataBatch(edge_index=[2, 4326], x=[1135, 21], y=[32], batch=[1135], ptr=[33])\n",
      "32\n",
      "\n",
      "DataBatch(edge_index=[2, 4302], x=[1137, 21], y=[32], batch=[1137], ptr=[33])\n",
      "32\n",
      "\n",
      "DataBatch(edge_index=[2, 4322], x=[1158, 21], y=[32], batch=[1158], ptr=[33])\n",
      "32\n",
      "\n",
      "DataBatch(edge_index=[2, 3848], x=[1003, 21], y=[32], batch=[1003], ptr=[33])\n",
      "32\n",
      "\n",
      "DataBatch(edge_index=[2, 4118], x=[1062, 21], y=[32], batch=[1062], ptr=[33])\n",
      "32\n",
      "\n",
      "DataBatch(edge_index=[2, 3840], x=[971, 21], y=[32], batch=[971], ptr=[33])\n",
      "32\n",
      "\n",
      "DataBatch(edge_index=[2, 3884], x=[1033, 21], y=[32], batch=[1033], ptr=[33])\n",
      "32\n",
      "\n",
      "DataBatch(edge_index=[2, 3834], x=[1047, 21], y=[32], batch=[1047], ptr=[33])\n",
      "32\n",
      "\n",
      "DataBatch(edge_index=[2, 3854], x=[983, 21], y=[32], batch=[983], ptr=[33])\n",
      "32\n",
      "\n",
      "DataBatch(edge_index=[2, 3578], x=[938, 21], y=[32], batch=[938], ptr=[33])\n",
      "32\n",
      "\n",
      "DataBatch(edge_index=[2, 3814], x=[1080, 21], y=[32], batch=[1080], ptr=[33])\n",
      "32\n",
      "\n",
      "DataBatch(edge_index=[2, 4106], x=[1057, 21], y=[32], batch=[1057], ptr=[33])\n",
      "32\n",
      "\n",
      "DataBatch(edge_index=[2, 4350], x=[1125, 21], y=[32], batch=[1125], ptr=[33])\n",
      "32\n",
      "\n",
      "DataBatch(edge_index=[2, 3816], x=[1031, 21], y=[32], batch=[1031], ptr=[33])\n",
      "32\n",
      "\n",
      "DataBatch(edge_index=[2, 2596], x=[667, 21], y=[24], batch=[667], ptr=[25])\n",
      "24\n",
      "\n"
     ]
    }
   ],
   "source": [
    "dataset = TUDataset(root='/tmp/ENZYMES', name='ENZYMES', use_node_attr=True)\n",
    "loader = DataLoader(dataset, batch_size=32, shuffle=True)\n",
    "\n",
    "for batch in loader:\n",
    "    print(batch)\n",
    "    print(batch.num_graphs)\n",
    "    print('')"
   ]
  },
  {
   "cell_type": "markdown",
   "id": "5fabd533",
   "metadata": {},
   "source": [
    "## データトランスフォーム"
   ]
  },
  {
   "cell_type": "markdown",
   "id": "6c0dc10b",
   "metadata": {},
   "source": [
    "画像や3Dなどのデータを変換する機能がある。 \n",
    "詳細は書かないが、点群を最近傍グラフにするなど出来る。"
   ]
  },
  {
   "cell_type": "markdown",
   "id": "2fa8ad6b",
   "metadata": {},
   "source": [
    "## 学習法とグラフ"
   ]
  },
  {
   "cell_type": "markdown",
   "id": "c0b4eef1",
   "metadata": {},
   "source": [
    "単純なGCN層を使用し、Coraの論文引用データセットで実験を再現する。  \n",
    "http://tkipf.github.io/graph-convolutional-networks/"
   ]
  },
  {
   "cell_type": "code",
   "execution_count": 20,
   "id": "77417360",
   "metadata": {},
   "outputs": [
    {
     "name": "stdout",
     "output_type": "stream",
     "text": [
      "Cora()\n"
     ]
    }
   ],
   "source": [
    "from torch_geometric.datasets import Planetoid\n",
    "\n",
    "dataset = Planetoid(root='/tmp/Cora', name='Cora')\n",
    "\n",
    "print(dataset)"
   ]
  },
  {
   "cell_type": "markdown",
   "id": "f658fd3e",
   "metadata": {},
   "source": [
    "２層GCNを構築する。"
   ]
  },
  {
   "cell_type": "code",
   "execution_count": 21,
   "id": "958f9e14",
   "metadata": {},
   "outputs": [],
   "source": [
    "import torch\n",
    "import torch.nn.functional as F\n",
    "from torch_geometric.nn import GCNConv"
   ]
  },
  {
   "cell_type": "code",
   "execution_count": 22,
   "id": "a7cd0335",
   "metadata": {},
   "outputs": [],
   "source": [
    "class GCN(torch.nn.Module):\n",
    "    def __init__(self):\n",
    "        super().__init__()\n",
    "        # 第1層 各特徴量ベクトル 1433 -> 16\n",
    "        self.conv1 = GCNConv(dataset.num_node_features, 16)\n",
    "        # 第2層 各特徴量ベクトル 16 -> 7\n",
    "        self.conv2 = GCNConv(16, dataset.num_classes)\n",
    "\n",
    "    def forward(self, data):\n",
    "        x, edge_index = data.x, data.edge_index\n",
    "\n",
    "        x = self.conv1(x, edge_index)\n",
    "        x = F.relu(x)\n",
    "        x = F.dropout(x, training=self.training)\n",
    "        x = self.conv2(x, edge_index)\n",
    "\n",
    "        return F.log_softmax(x, dim=1)"
   ]
  },
  {
   "cell_type": "markdown",
   "id": "b22a25e6",
   "metadata": {},
   "source": [
    "pytorch はクラス torch.nn.Module を継承してモデルを作成。  \n",
    "順伝播メソッド forward を定義して準備完了。  \n",
    "\n",
    "super() : クラス定義中に親クラス（torch.nn.Module）のメソッドを呼び出す。self の親戚みたいなもの  \n",
    "super().\\_\\_init\\_\\_() : 親クラスの初期化子を利用 \n",
    "\n",
    "第1層 GCN ReLU ドロップアウト  \n",
    "第2層 GCN softmax"
   ]
  },
  {
   "cell_type": "markdown",
   "id": "5b7a0525",
   "metadata": {},
   "source": [
    "トレーニングノードについて200エポックの学習を行う。"
   ]
  },
  {
   "cell_type": "code",
   "execution_count": 23,
   "id": "162b5fdf",
   "metadata": {},
   "outputs": [],
   "source": [
    "device = torch.device('cuda' if torch.cuda.is_available() else 'cpu')\n",
    "model = GCN().to(device)\n",
    "data = dataset[0].to(device)\n",
    "optimizer = torch.optim.Adam(model.parameters(), lr=0.01, weight_decay=5e-4)\n",
    "\n",
    "model.train()\n",
    "for epoch in range(200):\n",
    "    optimizer.zero_grad()\n",
    "    out = model(data)\n",
    "    loss = F.nll_loss(out[data.train_mask], data.y[data.train_mask])\n",
    "    loss.backward()\n",
    "    optimizer.step()"
   ]
  },
  {
   "cell_type": "markdown",
   "id": "36e65cd6",
   "metadata": {},
   "source": [
    "学習したモデルを評価"
   ]
  },
  {
   "cell_type": "code",
   "execution_count": 24,
   "id": "fedce71f",
   "metadata": {},
   "outputs": [
    {
     "name": "stdout",
     "output_type": "stream",
     "text": [
      "Accuracy: 0.8040\n"
     ]
    }
   ],
   "source": [
    "model.eval()\n",
    "pred = model(data).argmax(dim=1)\n",
    "correct = (pred[data.test_mask] == data.y[data.test_mask]).sum()\n",
    "acc = int(correct) / int(data.test_mask.sum())\n",
    "print(f'Accuracy: {acc:.4f}')"
   ]
  },
  {
   "cell_type": "code",
   "execution_count": 32,
   "id": "47913cde",
   "metadata": {},
   "outputs": [
    {
     "data": {
      "text/plain": [
       "Data(x=[2708, 1433], edge_index=[2, 10556], y=[2708], train_mask=[2708], val_mask=[2708], test_mask=[2708])"
      ]
     },
     "execution_count": 32,
     "metadata": {},
     "output_type": "execute_result"
    }
   ],
   "source": [
    "dataset[0]"
   ]
  },
  {
   "cell_type": "code",
   "execution_count": 28,
   "id": "0e254dd0",
   "metadata": {},
   "outputs": [
    {
     "data": {
      "text/plain": [
       "tensor([ True,  True,  True,  ..., False, False, False])"
      ]
     },
     "execution_count": 28,
     "metadata": {},
     "output_type": "execute_result"
    }
   ],
   "source": [
    "dataset[0].train_mask"
   ]
  },
  {
   "cell_type": "code",
   "execution_count": 36,
   "id": "8c54b88b",
   "metadata": {},
   "outputs": [
    {
     "data": {
      "text/plain": [
       "tensor([3, 4, 4,  ..., 0, 3, 3])"
      ]
     },
     "execution_count": 36,
     "metadata": {},
     "output_type": "execute_result"
    }
   ],
   "source": [
    "model(data).argmax(dim=1)"
   ]
  },
  {
   "cell_type": "code",
   "execution_count": null,
   "id": "d50429f4",
   "metadata": {},
   "outputs": [],
   "source": []
  }
 ],
 "metadata": {
  "kernelspec": {
   "display_name": "Python 3.9.13 64-bit",
   "language": "python",
   "name": "python3"
  },
  "language_info": {
   "codemirror_mode": {
    "name": "ipython",
    "version": 3
   },
   "file_extension": ".py",
   "mimetype": "text/x-python",
   "name": "python",
   "nbconvert_exporter": "python",
   "pygments_lexer": "ipython3",
   "version": "3.9.13"
  },
  "vscode": {
   "interpreter": {
    "hash": "b9ccb2f3435463c05ffca7b5f1af1f2833afb00e199c73464c59ff7753669d57"
   }
  }
 },
 "nbformat": 4,
 "nbformat_minor": 5
}
