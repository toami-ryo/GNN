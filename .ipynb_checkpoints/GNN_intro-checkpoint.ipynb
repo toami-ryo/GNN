{
 "cells": [
  {
   "cell_type": "markdown",
   "id": "13c47199",
   "metadata": {},
   "source": [
    "# PyG を用いた GNN"
   ]
  },
  {
   "cell_type": "code",
   "execution_count": 2,
   "id": "6aff3678",
   "metadata": {},
   "outputs": [],
   "source": [
    "import torch\n",
    "from torch_geometric.data import Data"
   ]
  },
  {
   "cell_type": "markdown",
   "id": "725f88ce",
   "metadata": {},
   "source": [
    "## グラフデータの作成\n",
    "節点 $V = {0, 1, 2}$、枝 $E = {(0,1), (1,2)}$ の無向グラフを作成。それぞれ特徴量 $x$ をもつ。  \n",
    "有向グラフをもとにした記述に注意。"
   ]
  },
  {
   "cell_type": "code",
   "execution_count": 4,
   "id": "7fa1f93e",
   "metadata": {},
   "outputs": [],
   "source": [
    "edge_index = torch.tensor([[0, 1, 1, 2],\n",
    "                           [1, 0, 2, 1]], dtype=torch.long)\n",
    "x = torch.tensor([[-1], [0], [1]], dtype=torch.float)\n",
    "\n",
    "data = Data(x=x, edge_index=edge_index)"
   ]
  },
  {
   "cell_type": "markdown",
   "id": "2de2c3c3",
   "metadata": {},
   "source": [
    "枝の記述が気に食わないなら、contiguous を使うとよい。"
   ]
  },
  {
   "cell_type": "code",
   "execution_count": 5,
   "id": "3564b035",
   "metadata": {},
   "outputs": [],
   "source": [
    "edge_index = torch.tensor([[0, 1],\n",
    "                           [1, 0],\n",
    "                           [1, 2],\n",
    "                           [2, 1]], dtype=torch.long)\n",
    "x = torch.tensor([[-1], [0], [1]], dtype=torch.float)\n",
    "\n",
    "data = Data(x=x, edge_index=edge_index.t().contiguous())"
   ]
  },
  {
   "cell_type": "markdown",
   "id": "efb71bae",
   "metadata": {},
   "source": [
    "data の内容。データの要素名と tensor の形がわかる"
   ]
  },
  {
   "cell_type": "code",
   "execution_count": 14,
   "id": "26b5e6e6",
   "metadata": {},
   "outputs": [
    {
     "data": {
      "text/plain": [
       "Data(x=[3, 1], edge_index=[2, 4])"
      ]
     },
     "execution_count": 14,
     "metadata": {},
     "output_type": "execute_result"
    }
   ],
   "source": [
    "data"
   ]
  },
  {
   "cell_type": "markdown",
   "id": "7b78e5f0",
   "metadata": {},
   "source": [
    "グラフ構造データの要素名について"
   ]
  },
  {
   "cell_type": "code",
   "execution_count": 11,
   "id": "b367f975",
   "metadata": {},
   "outputs": [
    {
     "name": "stdout",
     "output_type": "stream",
     "text": [
      "['x', 'edge_index']\n",
      "\"edge_attr\" found in data ? : False\n"
     ]
    }
   ],
   "source": [
    "print(data.keys)\n",
    "\n",
    "print('\\\"edge_attr\\\" found in data ? : {}'.format('edge_attr' in data))"
   ]
  },
  {
   "cell_type": "markdown",
   "id": "06aa06c8",
   "metadata": {},
   "source": [
    "data の要素を取り出す"
   ]
  },
  {
   "cell_type": "code",
   "execution_count": 8,
   "id": "3a8a2284",
   "metadata": {},
   "outputs": [
    {
     "name": "stdout",
     "output_type": "stream",
     "text": [
      "tensor([[-1.],\n",
      "        [ 0.],\n",
      "        [ 1.]])\n"
     ]
    }
   ],
   "source": [
    "print(data['x'])"
   ]
  },
  {
   "cell_type": "markdown",
   "id": "e1b3077e",
   "metadata": {},
   "source": [
    "その他グラフを解析するメソッド"
   ]
  },
  {
   "cell_type": "code",
   "execution_count": 12,
   "id": "c3e3e780",
   "metadata": {},
   "outputs": [
    {
     "name": "stdout",
     "output_type": "stream",
     "text": [
      "3\n",
      "4\n",
      "1\n",
      "False\n",
      "False\n",
      "False\n"
     ]
    }
   ],
   "source": [
    "print(data.num_nodes)\n",
    "print(data.num_edges)\n",
    "print(data.num_node_features)\n",
    "print(data.has_isolated_nodes())\n",
    "print(data.has_self_loops())\n",
    "print(data.is_directed())"
   ]
  },
  {
   "cell_type": "code",
   "execution_count": 13,
   "id": "dd77c503",
   "metadata": {},
   "outputs": [
    {
     "data": {
      "text/plain": [
       "Data(x=[3, 1], edge_index=[2, 4])"
      ]
     },
     "execution_count": 13,
     "metadata": {},
     "output_type": "execute_result"
    }
   ],
   "source": [
    "data"
   ]
  },
  {
   "cell_type": "markdown",
   "id": "c98d81e7",
   "metadata": {},
   "source": [
    "## データセット\n",
    "ベンチマークの（基礎的な）データが多く用意されている。  \n",
    "データセット \"ENZYMES\" のダウンロード"
   ]
  },
  {
   "cell_type": "code",
   "execution_count": 15,
   "id": "aa5fb20a",
   "metadata": {},
   "outputs": [],
   "source": [
    "from torch_geometric.datasets import TUDataset"
   ]
  },
  {
   "cell_type": "code",
   "execution_count": 16,
   "id": "45dd73f4",
   "metadata": {},
   "outputs": [
    {
     "name": "stderr",
     "output_type": "stream",
     "text": [
      "Downloading https://www.chrsmrrs.com/graphkerneldatasets/ENZYMES.zip\n",
      "Extracting \\tmp\\ENZYMES\\ENZYMES\\ENZYMES.zip\n",
      "Processing...\n",
      "Done!\n"
     ]
    }
   ],
   "source": [
    "dataset = TUDataset(root='/tmp/ENZYMES', name='ENZYMES')"
   ]
  },
  {
   "cell_type": "code",
   "execution_count": 17,
   "id": "120d6c7d",
   "metadata": {
    "scrolled": true
   },
   "outputs": [
    {
     "name": "stdout",
     "output_type": "stream",
     "text": [
      "600\n",
      "6\n",
      "3\n"
     ]
    }
   ],
   "source": [
    "print(len(dataset))\n",
    "print(dataset.num_classes)\n",
    "print(dataset.num_node_features)"
   ]
  },
  {
   "cell_type": "markdown",
   "id": "d943b121",
   "metadata": {},
   "source": [
    "データセットには多くのグラフデータがおさめられている"
   ]
  },
  {
   "cell_type": "code",
   "execution_count": 19,
   "id": "bf76dcea",
   "metadata": {
    "scrolled": true
   },
   "outputs": [
    {
     "name": "stdout",
     "output_type": "stream",
     "text": [
      "Data(edge_index=[2, 168], x=[37, 3], y=[1])\n",
      "True\n"
     ]
    }
   ],
   "source": [
    "print(dataset[0])\n",
    "print(data.is_undirected())"
   ]
  },
  {
   "cell_type": "markdown",
   "id": "e6abfce4",
   "metadata": {},
   "source": [
    "上の例だと、一番目のグラフデータはノード数 37、枝数 168/2 の無向グラフで、各ノードが３次元の特徴量をもつ\n",
    "\n",
    "データを操作するメソッド"
   ]
  },
  {
   "cell_type": "code",
   "execution_count": 22,
   "id": "cbb7a4b2",
   "metadata": {},
   "outputs": [
    {
     "name": "stdout",
     "output_type": "stream",
     "text": [
      "スライス（サンプリング）\n",
      "ENZYMES(540)\n",
      "ENZYMES(60)\n",
      "\n",
      "シャッフル\n",
      "Data(edge_index=[2, 94], x=[23, 3], y=[1])\n"
     ]
    }
   ],
   "source": [
    "print('スライス（サンプリング）')\n",
    "print(dataset[:540])\n",
    "print(dataset[540:])\n",
    "\n",
    "print('\\nシャッフル')\n",
    "print(dataset.shuffle()[0])"
   ]
  },
  {
   "cell_type": "markdown",
   "id": "b322e80a",
   "metadata": {},
   "source": [
    "データセット \"Cora\" のダウンロード"
   ]
  },
  {
   "cell_type": "code",
   "execution_count": 23,
   "id": "0fb7d19e",
   "metadata": {},
   "outputs": [],
   "source": [
    "from torch_geometric.datasets import Planetoid"
   ]
  },
  {
   "cell_type": "code",
   "execution_count": 24,
   "id": "ce6314b6",
   "metadata": {},
   "outputs": [
    {
     "name": "stderr",
     "output_type": "stream",
     "text": [
      "Downloading https://github.com/kimiyoung/planetoid/raw/master/data/ind.cora.x\n",
      "Downloading https://github.com/kimiyoung/planetoid/raw/master/data/ind.cora.tx\n",
      "Downloading https://github.com/kimiyoung/planetoid/raw/master/data/ind.cora.allx\n",
      "Downloading https://github.com/kimiyoung/planetoid/raw/master/data/ind.cora.y\n",
      "Downloading https://github.com/kimiyoung/planetoid/raw/master/data/ind.cora.ty\n",
      "Downloading https://github.com/kimiyoung/planetoid/raw/master/data/ind.cora.ally\n",
      "Downloading https://github.com/kimiyoung/planetoid/raw/master/data/ind.cora.graph\n",
      "Downloading https://github.com/kimiyoung/planetoid/raw/master/data/ind.cora.test.index\n",
      "Processing...\n",
      "Done!\n"
     ]
    }
   ],
   "source": [
    "dataset = Planetoid(root='/tmp/Cora', name='Cora')"
   ]
  },
  {
   "cell_type": "code",
   "execution_count": 25,
   "id": "48255aa7",
   "metadata": {},
   "outputs": [
    {
     "name": "stdout",
     "output_type": "stream",
     "text": [
      "1\n",
      "7\n",
      "1433\n"
     ]
    }
   ],
   "source": [
    "print(len(dataset))\n",
    "print(dataset.num_classes)\n",
    "print(dataset.num_node_features)"
   ]
  },
  {
   "cell_type": "code",
   "execution_count": null,
   "id": "da56cf2d",
   "metadata": {},
   "outputs": [],
   "source": []
  }
 ],
 "metadata": {
  "kernelspec": {
   "display_name": "Python 3 (ipykernel)",
   "language": "python",
   "name": "python3"
  },
  "language_info": {
   "codemirror_mode": {
    "name": "ipython",
    "version": 3
   },
   "file_extension": ".py",
   "mimetype": "text/x-python",
   "name": "python",
   "nbconvert_exporter": "python",
   "pygments_lexer": "ipython3",
   "version": "3.9.13"
  }
 },
 "nbformat": 4,
 "nbformat_minor": 5
}
